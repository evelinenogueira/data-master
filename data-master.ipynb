{
 "cells": [
  {
   "cell_type": "code",
   "execution_count": 16,
   "id": "f90d3b8d",
   "metadata": {},
   "outputs": [],
   "source": [
    "import pyspark\n",
    "from pyspark.sql import SQLContext\n",
    "from pyspark.sql.functions import *"
   ]
  },
  {
   "cell_type": "code",
   "execution_count": 2,
   "id": "fc0e60f9",
   "metadata": {},
   "outputs": [],
   "source": [
    "from pyspark.sql import SparkSession"
   ]
  },
  {
   "cell_type": "code",
   "execution_count": 20,
   "id": "3e15564e",
   "metadata": {},
   "outputs": [],
   "source": [
    "spark = SparkSession.builder.appName(\"datamaster\").getOrCreate()"
   ]
  },
  {
   "cell_type": "code",
   "execution_count": 21,
   "id": "4d523f61",
   "metadata": {},
   "outputs": [
    {
     "data": {
      "text/html": [
       "\n",
       "            <div>\n",
       "                <p><b>SparkSession - hive</b></p>\n",
       "                \n",
       "        <div>\n",
       "            <p><b>SparkContext</b></p>\n",
       "\n",
       "            <p><a href=\"http://d79d31cd0435:4040\">Spark UI</a></p>\n",
       "\n",
       "            <dl>\n",
       "              <dt>Version</dt>\n",
       "                <dd><code>v3.1.2</code></dd>\n",
       "              <dt>Master</dt>\n",
       "                <dd><code>local[*]</code></dd>\n",
       "              <dt>AppName</dt>\n",
       "                <dd><code>PySparkShell</code></dd>\n",
       "            </dl>\n",
       "        </div>\n",
       "        \n",
       "            </div>\n",
       "        "
      ],
      "text/plain": [
       "<pyspark.sql.session.SparkSession at 0x7f9fe027e370>"
      ]
     },
     "execution_count": 21,
     "metadata": {},
     "output_type": "execute_result"
    }
   ],
   "source": [
    "spark"
   ]
  },
  {
   "cell_type": "code",
   "execution_count": 9,
   "id": "3c6b02ee",
   "metadata": {},
   "outputs": [],
   "source": [
    "df = spark.read.format(\"csv\").option(\"header\",False).option(\"separator\",\",\").load(\"hdfs://localhost:9000/twitter/tweet\")"
   ]
  },
  {
   "cell_type": "code",
   "execution_count": 22,
   "id": "dbf9d625",
   "metadata": {},
   "outputs": [
    {
     "name": "stdout",
     "output_type": "stream",
     "text": [
      "+--------------------+-------------------+--------------------+\n",
      "|                 _c0|                _c1|                 _c2|\n",
      "+--------------------+-------------------+--------------------+\n",
      "|RT @RodrigoAus_: ...|2021-09-03 20:04:13|deab957eefb403182...|\n",
      "|@santander_br esq...|2021-09-03 20:04:02|93a89ee83bc3b7478...|\n",
      "|RT @JornalOGlobo:...|2021-09-03 20:04:00|80afd212127c85c15...|\n",
      "|RT @JornalOGlobo:...|2021-09-03 20:03:55|3ad1d2277ddf6545d...|\n",
      "|RT @RodrigoAus_: ...|2021-09-03 20:03:54|aa5e57039f4cb29f3...|\n",
      "+--------------------+-------------------+--------------------+\n",
      "only showing top 5 rows\n",
      "\n"
     ]
    }
   ],
   "source": [
    "df.show(5)"
   ]
  },
  {
   "cell_type": "code",
   "execution_count": 24,
   "id": "ea86e9d3",
   "metadata": {},
   "outputs": [],
   "source": [
    "df = df.withColumnRenamed('_c0','texto').withColumnRenamed('_c1','data').withColumnRenamed('_c2','user_hash')"
   ]
  },
  {
   "cell_type": "code",
   "execution_count": 26,
   "id": "70df030d",
   "metadata": {},
   "outputs": [
    {
     "name": "stdout",
     "output_type": "stream",
     "text": [
      "+--------------------------------------------------------------------------------------------------------------------------------------------+-------------------+----------------------------------------------------------------+\n",
      "|texto                                                                                                                                       |data               |user_hash                                                       |\n",
      "+--------------------------------------------------------------------------------------------------------------------------------------------+-------------------+----------------------------------------------------------------+\n",
      "|RT @RodrigoAus_: Pedi 100 reais emprestado pra minha afilhada (ela ganhou 200 de aniversário) e ela propôs me emprestar 100 e eu pagar 200… |2021-09-03 20:04:13|deab957eefb403182ea3d3b8e104a0730f6d651911afcdf1b8a59fae9bafbfc2|\n",
      "|@santander_br esqueceram de colocar o texto original dos termos e condições para encerrar conta, ta com lorem ipsum… https://t.co/aK8VVEoHp2|2021-09-03 20:04:02|93a89ee83bc3b74789844a2f2bc0a55bdaf72e61e6aafeced5a145110b36f0bb|\n",
      "|RT @JornalOGlobo: Floresta amazônica vale mais em pé do que derrubada, dizem executivos do Santander, Bradesco e Itaú https://t.co/8yxuLVNj…|2021-09-03 20:04:00|80afd212127c85c15563a82675d70308469f5b19832daeca34d3774b13c280d6|\n",
      "|RT @JornalOGlobo: Floresta amazônica vale mais em pé do que derrubada, dizem executivos do Santander, Bradesco e Itaú https://t.co/8yxuLVNj…|2021-09-03 20:03:55|3ad1d2277ddf6545dbf39dadeb68ab6345c2eab6adea4af87da9927e0cd9f2a7|\n",
      "|RT @RodrigoAus_: Pedi 100 reais emprestado pra minha afilhada (ela ganhou 200 de aniversário) e ela propôs me emprestar 100 e eu pagar 200… |2021-09-03 20:03:54|aa5e57039f4cb29f30c5195d2b88626c1aeab84f47fdf9c4f2f234b689874dd2|\n",
      "+--------------------------------------------------------------------------------------------------------------------------------------------+-------------------+----------------------------------------------------------------+\n",
      "only showing top 5 rows\n",
      "\n"
     ]
    }
   ],
   "source": [
    "df.show(5,False)"
   ]
  },
  {
   "cell_type": "code",
   "execution_count": null,
   "id": "eaa324dd",
   "metadata": {},
   "outputs": [],
   "source": []
  }
 ],
 "metadata": {
  "kernelspec": {
   "display_name": "Python 3 (ipykernel)",
   "language": "python",
   "name": "python3"
  },
  "language_info": {
   "codemirror_mode": {
    "name": "ipython",
    "version": 3
   },
   "file_extension": ".py",
   "mimetype": "text/x-python",
   "name": "python",
   "nbconvert_exporter": "python",
   "pygments_lexer": "ipython3",
   "version": "3.9.2"
  }
 },
 "nbformat": 4,
 "nbformat_minor": 5
}
